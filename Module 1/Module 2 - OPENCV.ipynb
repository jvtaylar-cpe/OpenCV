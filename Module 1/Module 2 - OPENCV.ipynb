{
 "cells": [
  {
   "cell_type": "markdown",
   "id": "8bf1ac46",
   "metadata": {},
   "source": [
    "# Processing Images with OpenCV\n",
    "\n",
    "\n",
    "When working with images, you will find you need to alter them: be it by applying artistic filters, extrapolating certain sections, blending two images, or whatever else your mind can conjure. This module presents some techniques that you can use to alter\n",
    "images. \n",
    "\n",
    "By the end of it, you should be able to perform tasks such as\n",
    "- sharpening an image,\n",
    "- marking the contours of subjects, \n",
    "- and detecting crosswalks using a line segment detector. \n",
    "\n",
    "Specifically, our discussion and code samples will cover the following topics:\n",
    "\n",
    "- Converting images between different color models\n",
    "- Understanding the importance of frequencies and the Fourier transform in image processing\n",
    "- Applying high-pass filters (HPFs), low-pass filters (LPFs), edge detection filters,and custom convolution filters\n",
    "- Detecting and analyzing contours, lines, circles, and other geometric shapes\n",
    "- Writing classes and functions that encapsulate the implementation of a filter\n",
    "\n",
    "# Converting images between different color models\n",
    "\n",
    "OpenCV implements literally hundreds of formulas that pertain to the conversion of color\n",
    "models. Some color models are commonly used by input devices such as cameras, while\n",
    "other models are commonly used for output devices such as televisions, computer displays,\n",
    "and printers. In between input and output, when we apply computer vision techniques to\n",
    "images, we will typically work with three kinds of color models: \n",
    "\n",
    "- **Grayscale** is a model that reduces color information by translating it into shades of gray or brightness. This model is extremely useful for the intermediate processing of images in problems where brightness information alone is sufficient, such as face detection. Typically, each pixel in a grayscale image is represented by a single 8-bit value, ranging from 0 for black to 255 for white.\n",
    "- **BGR** is the blue-green-red color model, in which each pixel has a triplet of values representing the blue, green, and red components or channels of the pixel's color. Web developers, and anyone who works with computer graphics, will be familiar with a similar definition of colors, except with the reverse channel order, red-green-blue (RGB). Typically, each pixel in a BGR image is represented by a triplet of 8-bit values, such as `[0, 0, 0]` for black, `[255, 0, 0]` for blue, `[0,255, 0]` for green, `[0, 0, 255]` for red, and `[255, 255, 255]` for white. \n",
    "- The **HSV** model uses a different triplet of channels. Hue is the color's tone, saturation is its intensity, and value represents its brightness.\n",
    "\n",
    "By default, OpenCV uses the BGR color model (with 8 bits per channel) to represent any image that it loads from a file or captures from a camera.\n"
   ]
  },
  {
   "cell_type": "markdown",
   "id": "1ef192f8",
   "metadata": {},
   "source": [
    "## Exploring the Fourier transform\n",
    "\n",
    "OpenCV implements a number of algorithms that enable us to process\n",
    "images and make sense of the data contained in them, and these are also reimplemented in NumPy to make our life even easier. NumPy has a fast **Fourier transform (FFT)** package, which contains the `fft2` method. This method allows us to compute a discrete **Fourier transform (DFT)** of the image.\n",
    "\n",
    "\n"
   ]
  }
 ],
 "metadata": {
  "kernelspec": {
   "display_name": "Python 3 (ipykernel)",
   "language": "python",
   "name": "python3"
  },
  "language_info": {
   "codemirror_mode": {
    "name": "ipython",
    "version": 3
   },
   "file_extension": ".py",
   "mimetype": "text/x-python",
   "name": "python",
   "nbconvert_exporter": "python",
   "pygments_lexer": "ipython3",
   "version": "3.9.13"
  }
 },
 "nbformat": 4,
 "nbformat_minor": 5
}
